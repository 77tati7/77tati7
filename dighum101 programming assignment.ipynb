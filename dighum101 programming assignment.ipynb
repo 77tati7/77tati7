{
 "cells": [
  {
   "cell_type": "markdown",
   "id": "33763e10-5da9-4302-bf60-aa2f86aede02",
   "metadata": {},
   "source": [
    "\n",
    "1. Store 3.5 in a variable called `my_float` and store 2 in a variable called `my_int`. Store the sum of `my_float` and `my_int` in the `total_value` variable. (2 points)"
   ]
  },
  {
   "cell_type": "code",
   "execution_count": 1,
   "id": "0e6109d2-93d8-4dce-9c40-ee87292af303",
   "metadata": {},
   "outputs": [
    {
     "name": "stdout",
     "output_type": "stream",
     "text": [
      "total value: 5.5\n"
     ]
    }
   ],
   "source": [
    "my_float = 3.5\n",
    "my_int = 2\n",
    "total_value = my_float + my_int\n",
    "print(\"total value:\", total_value)"
   ]
  },
  {
   "cell_type": "markdown",
   "id": "bf6ccc1c-3be3-4d09-8bd1-af7e2c394bc5",
   "metadata": {},
   "source": [
    "2. Write a Python function that takes a string as input and returns the number of characters in the string. (3 points)"
   ]
  },
  {
   "cell_type": "code",
   "execution_count": 4,
   "id": "aa8c2671-eb64-4274-9a84-e898f6e412a1",
   "metadata": {},
   "outputs": [
    {
     "name": "stdout",
     "output_type": "stream",
     "text": [
      "Number of characters: 25\n"
     ]
    }
   ],
   "source": [
    "def count_characters(input_string):\n",
    "    return len(input_string)\n",
    "input_string = \"Hi Mom, hope you're well!\"\n",
    "print(\"Number of characters:\", count_characters(input_string))"
   ]
  },
  {
   "cell_type": "markdown",
   "id": "48d2b5b1-a751-4995-811a-8c8590711bf1",
   "metadata": {},
   "source": [
    "3. Create a list of your five favorite books in Python. Write Python code to print the first and last book in the list. (3 points)"
   ]
  },
  {
   "cell_type": "code",
   "execution_count": 6,
   "id": "0c63682a-3eb4-44d8-af37-b19ddfe02818",
   "metadata": {},
   "outputs": [
    {
     "name": "stdout",
     "output_type": "stream",
     "text": [
      "First book: Wuthering Heights\n",
      "Last book: The Color Purple\n"
     ]
    }
   ],
   "source": [
    "favorite_books = [\"Wuthering Heights\", \"Normal People\", \"Conversations with Friends\", \"My Year of Rest and Relaxation\", \"The Color Purple\"]\n",
    "print(\"First book:\", favorite_books[0])\n",
    "print(\"Last book:\", favorite_books[-1])"
   ]
  },
  {
   "cell_type": "markdown",
   "id": "3d9b9185-b465-4ecd-b452-1389ae7de386",
   "metadata": {},
   "source": [
    "4. Create a dictionary where the keys are the names of three different countries and the values are their respective capitals. (3 points)"
   ]
  },
  {
   "cell_type": "code",
   "execution_count": 13,
   "id": "f50b5266-677e-40c5-a5c2-37056f7371d2",
   "metadata": {},
   "outputs": [
    {
     "data": {
      "text/plain": [
       "'Havana'"
      ]
     },
     "execution_count": 13,
     "metadata": {},
     "output_type": "execute_result"
    }
   ],
   "source": [
    "country_capitals = {\n",
    "    \"Cuba\": \"Havana\",\n",
    "    \"Brazil\": \"Brasilia\",\n",
    "    \"Afghanistan\": \"Kabul\"\n",
    "}\n",
    "country_capitals[\"Afghanistan\"]\n",
    "country_capitals[\"Brazil\"]\n",
    "country_capitals[\"Cuba\"]"
   ]
  },
  {
   "cell_type": "markdown",
   "id": "34be8827-88e2-40b8-bb0a-d0565486939d",
   "metadata": {},
   "source": [
    "\n",
    "\n",
    "5. Create a set of numbers from the following numbers using Python: 1, 2, 4, 2, 5, 1. (3 points)"
   ]
  },
  {
   "cell_type": "code",
   "execution_count": 16,
   "id": "ec39c82e-cc20-4159-9913-1502fdecb2f8",
   "metadata": {},
   "outputs": [
    {
     "name": "stdout",
     "output_type": "stream",
     "text": [
      "{1, 2, 4, 5}\n"
     ]
    }
   ],
   "source": [
    "given_numbers = [1,2,4,2,5,1]\n",
    "numbers_set = set(given_numbers)\n",
    "print(numbers_set)"
   ]
  },
  {
   "cell_type": "markdown",
   "id": "badab60d-25e6-48d1-9020-54fc3355f00e",
   "metadata": {},
   "source": [
    "6. Create a list of the first six whole numbers i.e. (0, 1, 2, 3, 4, 5). Then use a `for` loop to iterate through each number and print twice that number. Your output should be 0, 2, 4, 6, 8, 10. (3 points)"
   ]
  },
  {
   "cell_type": "code",
   "execution_count": 19,
   "id": "ce222475-4c63-40db-8457-151eaeb67d58",
   "metadata": {},
   "outputs": [
    {
     "name": "stdout",
     "output_type": "stream",
     "text": [
      "0\n",
      "2\n",
      "4\n",
      "6\n",
      "8\n",
      "10\n"
     ]
    }
   ],
   "source": [
    "whole_numbers = [0,1,2,3,4,5]\n",
    "for number in whole_numbers:\n",
    "    print(number * 2)"
   ]
  },
  {
   "cell_type": "markdown",
   "id": "50a559e6-3195-44fb-8305-acb50dbbc8f6",
   "metadata": {},
   "source": [
    "7. You are provided with a dataframe called `df` below. Write Python code to return a subset of the DataFrame where the `Favorite Food` is `Momo`. Include only `Name`, `Favorite Food` and `City` columns in your output.(3 points)"
   ]
  },
  {
   "cell_type": "code",
   "execution_count": 22,
   "id": "d72c0eac-724a-47f9-9816-4468eef4cf0b",
   "metadata": {},
   "outputs": [
    {
     "data": {
      "text/html": [
       "<div>\n",
       "<style scoped>\n",
       "    .dataframe tbody tr th:only-of-type {\n",
       "        vertical-align: middle;\n",
       "    }\n",
       "\n",
       "    .dataframe tbody tr th {\n",
       "        vertical-align: top;\n",
       "    }\n",
       "\n",
       "    .dataframe thead th {\n",
       "        text-align: right;\n",
       "    }\n",
       "</style>\n",
       "<table border=\"1\" class=\"dataframe\">\n",
       "  <thead>\n",
       "    <tr style=\"text-align: right;\">\n",
       "      <th></th>\n",
       "      <th>Name</th>\n",
       "      <th>Favorite Food</th>\n",
       "      <th>Favorite Number</th>\n",
       "      <th>City</th>\n",
       "    </tr>\n",
       "  </thead>\n",
       "  <tbody>\n",
       "    <tr>\n",
       "      <th>0</th>\n",
       "      <td>Prashant</td>\n",
       "      <td>Chataamari</td>\n",
       "      <td>28</td>\n",
       "      <td>New York</td>\n",
       "    </tr>\n",
       "    <tr>\n",
       "      <th>1</th>\n",
       "      <td>Sirak</td>\n",
       "      <td>Momo</td>\n",
       "      <td>26</td>\n",
       "      <td>Los Angeles</td>\n",
       "    </tr>\n",
       "    <tr>\n",
       "      <th>2</th>\n",
       "      <td>Kirtika</td>\n",
       "      <td>Pizza</td>\n",
       "      <td>24</td>\n",
       "      <td>New York</td>\n",
       "    </tr>\n",
       "    <tr>\n",
       "      <th>3</th>\n",
       "      <td>Sushrey</td>\n",
       "      <td>Injera</td>\n",
       "      <td>30</td>\n",
       "      <td>Chicago</td>\n",
       "    </tr>\n",
       "    <tr>\n",
       "      <th>4</th>\n",
       "      <td>Rupesh</td>\n",
       "      <td>Momo</td>\n",
       "      <td>26</td>\n",
       "      <td>San Francisco</td>\n",
       "    </tr>\n",
       "  </tbody>\n",
       "</table>\n",
       "</div>"
      ],
      "text/plain": [
       "       Name Favorite Food  Favorite Number           City\n",
       "0  Prashant    Chataamari               28       New York\n",
       "1     Sirak          Momo               26    Los Angeles\n",
       "2   Kirtika         Pizza               24       New York\n",
       "3   Sushrey        Injera               30        Chicago\n",
       "4    Rupesh          Momo               26  San Francisco"
      ]
     },
     "execution_count": 22,
     "metadata": {},
     "output_type": "execute_result"
    }
   ],
   "source": [
    "import pandas as pd\n",
    "\n",
    "data = {\n",
    "    'Name': ['Prashant', 'Sirak', 'Kirtika', 'Sushrey', 'Rupesh'],\n",
    "    'Favorite Food': ['Chataamari', 'Momo', 'Pizza', 'Injera', 'Momo'],\n",
    "    'Favorite Number': [28, 26, 24, 30, 26],\n",
    "    'City': ['New York', 'Los Angeles', 'New York', 'Chicago', 'San Francisco']\n",
    "}\n",
    "\n",
    "df = pd.DataFrame(data)\n",
    "df"
   ]
  },
  {
   "cell_type": "code",
   "execution_count": 23,
   "id": "a85b6edd-e601-410a-b58c-dcceec9fa78a",
   "metadata": {},
   "outputs": [
    {
     "name": "stdout",
     "output_type": "stream",
     "text": [
      "     Name Favorite Food           City\n",
      "1   Sirak          Momo    Los Angeles\n",
      "4  Rupesh          Momo  San Francisco\n"
     ]
    }
   ],
   "source": [
    "subset_df = df[df['Favorite Food'] == 'Momo'][['Name', 'Favorite Food', 'City']]\n",
    "print(subset_df)"
   ]
  },
  {
   "cell_type": "markdown",
   "id": "5b3b9b6b-4513-4138-8eac-f805b5c124e1",
   "metadata": {},
   "source": [
    "8. Write a Python function that takes two parameters - `text` and `search_word`. It should return the number of times `search_word` appears in the text. Your search should not be case-sensitive. For example, if your text is \"It was the best of times. It was the worst of times.\" and your `search_word` is 'it', your function should return 2. (5 points)"
   ]
  },
  {
   "cell_type": "code",
   "execution_count": 35,
   "id": "1b9eb23f-a514-49c0-a4a0-2d953ea6d9a5",
   "metadata": {},
   "outputs": [
    {
     "name": "stdout",
     "output_type": "stream",
     "text": [
      "4\n"
     ]
    }
   ],
   "source": [
    "def count_occurrences(text, search_word):\n",
    "    text_lower = text.lower()\n",
    "    search_word_lower = search_word.lower()\n",
    "    return text_lower.count(search_word_lower)\n",
    "text = \"The clown is chasing around ducks in the park while the doves screach in the distance.\"\n",
    "search_word = \"the\"\n",
    "result = count_occurrences(text, search_word)\n",
    "print(result)"
   ]
  },
  {
   "cell_type": "markdown",
   "id": "b8508931-4ed2-4a61-9477-5095eb4c4eef",
   "metadata": {},
   "source": [
    "9. Lemmatize the words in the sentence \"The striped bats are hanging on their feet for best\" and print the lemmas. (5 points)"
   ]
  },
  {
   "cell_type": "code",
   "execution_count": 37,
   "id": "3d1c0140-73e6-4c77-9377-009ae2aef01c",
   "metadata": {},
   "outputs": [
    {
     "name": "stderr",
     "output_type": "stream",
     "text": [
      "[nltk_data] Downloading package punkt to\n",
      "[nltk_data]     /Users/tatianasanchez/nltk_data...\n",
      "[nltk_data]   Unzipping tokenizers/punkt.zip.\n",
      "[nltk_data] Downloading package wordnet to\n",
      "[nltk_data]     /Users/tatianasanchez/nltk_data...\n"
     ]
    },
    {
     "name": "stdout",
     "output_type": "stream",
     "text": [
      "['The', 'striped', 'bat', 'are', 'hanging', 'on', 'their', 'foot', 'for', 'best']\n"
     ]
    }
   ],
   "source": [
    "import nltk\n",
    "from nltk.stem import WordNetLemmatizer\n",
    "from nltk.tokenize import word_tokenize\n",
    "\n",
    "nltk.download('punkt')\n",
    "nltk.download('wordnet')\n",
    "\n",
    "lemmatizer = WordNetLemmatizer()\n",
    "\n",
    "sentence = \"The striped bats are hanging on their feet for best\"\n",
    "\n",
    "words = word_tokenize(sentence)\n",
    "\n",
    "lemmas = [lemmatizer.lemmatize(word) for word in words]\n",
    "print(lemmas)"
   ]
  },
  {
   "cell_type": "markdown",
   "id": "0da6bf61-4dc2-41b1-8a32-cb603ce088e2",
   "metadata": {},
   "source": [
    "\n",
    "\n",
    "10. Write a Python function that takes a string (`text`) as input. The function should lowercase the string, remove punctuation, tokenize, lemmatize, and remove stopwords. The function should return the lemmas present in the string. The returned lemmas should not contain any stopwords. (10 points)\n",
    "\n"
   ]
  },
  {
   "cell_type": "code",
   "execution_count": 46,
   "id": "14274698-90f8-442a-bf29-170bf785835b",
   "metadata": {
    "scrolled": false
   },
   "outputs": [
    {
     "name": "stderr",
     "output_type": "stream",
     "text": [
      "[nltk_data] Downloading package stopwords to\n",
      "[nltk_data]     /Users/tatianasanchez/nltk_data...\n",
      "[nltk_data]   Unzipping corpora/stopwords.zip.\n"
     ]
    },
    {
     "data": {
      "text/plain": [
       "True"
      ]
     },
     "execution_count": 46,
     "metadata": {},
     "output_type": "execute_result"
    }
   ],
   "source": [
    "import nltk\n",
    "nltk.download('stopwords')"
   ]
  },
  {
   "cell_type": "code",
   "execution_count": 47,
   "id": "87b41ec5",
   "metadata": {},
   "outputs": [
    {
     "name": "stdout",
     "output_type": "stream",
     "text": [
      "['cat', 'dog', 'get', 'along', 'sun', 'blaring', 'wind', 'sharp']\n"
     ]
    }
   ],
   "source": [
    "import nltk\n",
    "from nltk.tokenize import word_tokenize\n",
    "from nltk.corpus import stopwords\n",
    "from nltk.stem import WordNetLemmatizer\n",
    "import string\n",
    "def preprocess_text(text):\n",
    "    text = text.lower()\n",
    "    text = text.translate(str.maketrans('','', string.punctuation))\n",
    "    tokens = word_tokenize(text)\n",
    "    lemmatizer = WordNetLemmatizer()\n",
    "    lemmas = [lemmatizer.lemmatize(token) for token in tokens if token not in stopwords.words('english')]\n",
    "    return lemmas\n",
    "text = \"Cats and dogs get along if the sun is blaring or the wind too sharp.\"\n",
    "lemmas = preprocess_text(text)\n",
    "print(lemmas)"
   ]
  }
 ],
 "metadata": {
  "kernelspec": {
   "display_name": "Python 3 (ipykernel)",
   "language": "python",
   "name": "python3"
  },
  "language_info": {
   "codemirror_mode": {
    "name": "ipython",
    "version": 3
   },
   "file_extension": ".py",
   "mimetype": "text/x-python",
   "name": "python",
   "nbconvert_exporter": "python",
   "pygments_lexer": "ipython3",
   "version": "3.11.7"
  }
 },
 "nbformat": 4,
 "nbformat_minor": 5
}
